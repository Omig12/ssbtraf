{
 "cells": [
  {
   "cell_type": "markdown",
   "metadata": {},
   "source": [
    "# Traffic analysis of scuttlebutt messages\n",
    "\n",
    "Humberto Ortiz-Zuazaga\n",
    "\n",
    "## Introduction\n",
    "\n",
    "The scuttlebutt protocol implements private messages with [\"private box\"](https://github.com/auditdrivencrypto/private-box), a protocol that hides the recipients from observers. Each message is encrypted to up to seven recipients. An observer can see only the timestamp, size, and the sender of messages.\n",
    "\n",
    "We also know that participants in a private conversation must \"follow\" each other. Is there sufficient information in the scuttlebutt feed to determine who is private messaging whom?\n",
    "\n",
    "We will try."
   ]
  },
  {
   "cell_type": "markdown",
   "metadata": {},
   "source": [
    "## Reading json feeds"
   ]
  },
  {
   "cell_type": "markdown",
   "metadata": {},
   "source": [
    "You can save a json representation of your feed to a file\n",
    "\n",
    "```\n",
    "$ sbot feed > feed.txt\n",
    "```\n",
    "\n",
    "Then open the file and read in the json chunks"
   ]
  },
  {
   "cell_type": "code",
   "execution_count": 1,
   "metadata": {},
   "outputs": [],
   "source": [
    "import json\n",
    "import fileinput"
   ]
  },
  {
   "cell_type": "code",
   "execution_count": 2,
   "metadata": {},
   "outputs": [],
   "source": [
    "# see https://stackoverflow.com/questions/20400818/python-trying-to-deserialize-multiple-json-objects-in-a-file-with-each-object-s\n",
    "\n",
    "def load_json_multiple(segments):\n",
    "    chunk = \"\"\n",
    "    for segment in segments:\n",
    "        chunk += segment\n",
    "        try:\n",
    "            yield json.loads(chunk)\n",
    "            chunk = \"\"\n",
    "        except ValueError:\n",
    "            pass\n"
   ]
  },
  {
   "cell_type": "code",
   "execution_count": 3,
   "metadata": {},
   "outputs": [],
   "source": [
    "# set up hash table for sender information\n",
    "privates = {}"
   ]
  },
  {
   "cell_type": "code",
   "execution_count": 4,
   "metadata": {},
   "outputs": [],
   "source": [
    "with fileinput.input(\"dom_feed.txt\") as f:\n",
    "   for parsed_json in load_json_multiple(f):\n",
    "       value = parsed_json['value']\n",
    "       if \"content\" in value and isinstance(value['content'], str):\n",
    "           if value['content'].endswith(\".box\"):\n",
    "                # found a secret box, get info\n",
    "                author = value['author']\n",
    "                timestamp = value['timestamp']\n",
    "                contentlen = len(value[\"content\"])\n",
    "                if author not in privates:\n",
    "                    # store list of timestamps and lengths\n",
    "                    privates[author] = {\"times\" : [timestamp], 'lengths' : [contentlen]}\n",
    "                else:\n",
    "                    privates[author][\"times\"].append(timestamp)\n",
    "                    privates[author][\"lengths\"].append(contentlen)"
   ]
  },
  {
   "cell_type": "markdown",
   "metadata": {},
   "source": [
    "## Plotting the messages\n",
    "\n",
    "The authors are indexed by private keys. You can get your key by running:\n",
    "```\n",
    "$ sbot whoami\n",
    "{\n",
    "  \"id\": \"@RtsOc2h1gqh0fRrjrUTHAkRBu9YyDgsD+EWsfLpykrc=.ed25519\"\n",
    "}\n",
    "```"
   ]
  },
  {
   "cell_type": "code",
   "execution_count": 5,
   "metadata": {},
   "outputs": [],
   "source": [
    "me = \"@RDRnDaZhV5Yg1NWAN78D04iZtJ8hWrQoT5iBJfYcIpg=.ed25519\""
   ]
  },
  {
   "cell_type": "code",
   "execution_count": 6,
   "metadata": {},
   "outputs": [
    {
     "data": {
      "text/plain": [
       "{'times': [1516109802045,\n",
       "  1516254847065,\n",
       "  1516326508511,\n",
       "  1516326513137,\n",
       "  1516326722757,\n",
       "  1516740458340,\n",
       "  1516895853176,\n",
       "  1518481824768,\n",
       "  1519329965916,\n",
       "  1519336779278,\n",
       "  1519337582529,\n",
       "  1519337591239,\n",
       "  1519351020740,\n",
       "  1519352295108,\n",
       "  1519739593556,\n",
       "  1519870653849,\n",
       "  1523544505980,\n",
       "  1523544528980],\n",
       " 'lengths': [1384,\n",
       "  940,\n",
       "  568,\n",
       "  568,\n",
       "  964,\n",
       "  696,\n",
       "  808,\n",
       "  920,\n",
       "  704,\n",
       "  628,\n",
       "  568,\n",
       "  804,\n",
       "  1228,\n",
       "  1052,\n",
       "  1216,\n",
       "  1116,\n",
       "  1444,\n",
       "  1400]}"
      ]
     },
     "execution_count": 6,
     "metadata": {},
     "output_type": "execute_result"
    }
   ],
   "source": [
    "privates[me]"
   ]
  },
  {
   "cell_type": "code",
   "execution_count": 7,
   "metadata": {},
   "outputs": [],
   "source": [
    "%matplotlib inline"
   ]
  },
  {
   "cell_type": "code",
   "execution_count": 8,
   "metadata": {},
   "outputs": [],
   "source": [
    "import pylab\n",
    "import numpy as np"
   ]
  },
  {
   "cell_type": "code",
   "execution_count": 9,
   "metadata": {},
   "outputs": [],
   "source": [
    "xmin, xmax = np.min(privates[me][\"times\"]), np.max(privates[me][\"times\"])"
   ]
  },
  {
   "cell_type": "code",
   "execution_count": 10,
   "metadata": {},
   "outputs": [
    {
     "data": {
      "text/plain": [
       "(1516109802045, 1523544528980)"
      ]
     },
     "execution_count": 10,
     "metadata": {},
     "output_type": "execute_result"
    },
    {
     "data": {
      "image/png": "[encoded data removed]",
      "text/plain": [
       "<Figure size 432x288 with 1 Axes>"
      ]
     },
     "metadata": {},
     "output_type": "display_data"
    }
   ],
   "source": [
    "pylab.vlines(privates[me][\"times\"], privates[me][\"lengths\"], 0)\n",
    "pylab.xlim(xmin,xmax)"
   ]
  },
  {
   "cell_type": "code",
   "execution_count": 11,
   "metadata": {},
   "outputs": [],
   "source": [
    "dom = \"@EMovhfIrFk4NihAKnRNhrfRaqIhBv1Wj8pTxJNgvCCY=.ed25519\""
   ]
  },
  {
   "cell_type": "code",
   "execution_count": 13,
   "metadata": {},
   "outputs": [
    {
     "data": {
      "text/plain": [
       "(1516109802045, 1523544528980)"
      ]
     },
     "execution_count": 13,
     "metadata": {},
     "output_type": "execute_result"
    },
    {
     "data": {
      "image/png": "[encoded data removed]",
      "text/plain": [
       "<Figure size 432x288 with 1 Axes>"
      ]
     },
     "metadata": {},
     "output_type": "display_data"
    }
   ],
   "source": [
    "pylab.vlines(privates[dom][\"times\"], privates[dom][\"lengths\"],0)\n",
    "pylab.xlim(xmin,xmax)"
   ]
  },
  {
   "cell_type": "code",
   "execution_count": null,
   "metadata": {},
   "outputs": [],
   "source": []
  },
  {
   "cell_type": "code",
   "execution_count": 15,
   "metadata": {},
   "outputs": [],
   "source": [
    "imin, imax = np.min(privates[dom][\"times\"]), np.max(privates[dom][\"times\"])"
   ]
  },
  {
   "cell_type": "code",
   "execution_count": null,
   "metadata": {},
   "outputs": [],
   "source": []
  },
  {
   "cell_type": "code",
   "execution_count": 16,
   "metadata": {},
   "outputs": [
    {
     "data": {
      "text/plain": [
       "(1449293862447, 1523513402160)"
      ]
     },
     "execution_count": 16,
     "metadata": {},
     "output_type": "execute_result"
    },
    {
     "data": {
      "image/png": "[encoded data removed]",
      "text/plain": [
       "<Figure size 432x288 with 1 Axes>"
      ]
     },
     "metadata": {},
     "output_type": "display_data"
    }
   ],
   "source": [
    "pylab.vlines(privates[me][\"times\"], privates[me][\"lengths\"], 0)\n",
    "pylab.xlim(imin,imax)"
   ]
  },
  {
   "cell_type": "code",
   "execution_count": 17,
   "metadata": {},
   "outputs": [
    {
     "data": {
      "text/plain": [
       "(1449293862447, 1523513402160)"
      ]
     },
     "execution_count": 17,
     "metadata": {},
     "output_type": "execute_result"
    },
    {
     "data": {
      "image/png": "[encoded data removed]",
      "text/plain": [
       "<Figure size 432x288 with 1 Axes>"
      ]
     },
     "metadata": {},
     "output_type": "display_data"
    }
   ],
   "source": [
    "pylab.vlines(privates[dom][\"times\"], privates[dom][\"lengths\"],0)\n",
    "pylab.xlim(imin,imax)"
   ]
  },
  {
   "cell_type": "code",
   "execution_count": null,
   "metadata": {},
   "outputs": [],
   "source": []
  }
 ],
 "metadata": {
  "kernelspec": {
   "display_name": "Python 3",
   "language": "python",
   "name": "python3"
  },
  "language_info": {
   "codemirror_mode": {
    "name": "ipython",
    "version": 3
   },
   "file_extension": ".py",
   "mimetype": "text/x-python",
   "name": "python",
   "nbconvert_exporter": "python",
   "pygments_lexer": "ipython3",
   "version": "3.6.3"
  }
 },
 "nbformat": 4,
 "nbformat_minor": 2
}
